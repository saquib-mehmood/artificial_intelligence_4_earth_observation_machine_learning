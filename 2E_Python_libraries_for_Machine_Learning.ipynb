{
 "cells": [
  {
   "cell_type": "markdown",
   "metadata": {},
   "source": [
    "<center><img src='../../img/ai4eo_logos.jpg' alt='Logos AI4EO MOOC' width='80%'></img></center>"
   ]
  },
  {
   "cell_type": "markdown",
   "metadata": {},
   "source": [
    "<hr>"
   ]
  },
  {
   "cell_type": "markdown",
   "metadata": {},
   "source": [
    "<a href=\"https://www.futurelearn.com/courses/artificial-intelligence-for-earth-monitoring/1/steps/1280512\"><< Back to FutureLearn</a><br>"
   ]
  },
  {
   "cell_type": "markdown",
   "metadata": {},
   "source": [
    "# Python libraries for Machine Learning"
   ]
  },
  {
   "cell_type": "markdown",
   "metadata": {},
   "source": [
    "<hr>"
   ]
  },
  {
   "cell_type": "markdown",
   "metadata": {},
   "source": [
    "## Watch the video tutorial"
   ]
  },
  {
   "cell_type": "code",
   "execution_count": 1,
   "metadata": {},
   "outputs": [
    {
     "data": {
      "text/html": [
       "<div align=\"center\"><iframe src=\"https://player.vimeo.com/video/631241286?h=ae1948cfce\" width=\"640\" height=\"360\" frameborder=\"0\" allow=\"autoplay; fullscreen; picture-in-picture\" allowfullscreen align=\"middle\"></iframe></div>"
      ],
      "text/plain": [
       "<IPython.core.display.HTML object>"
      ]
     },
     "execution_count": 1,
     "metadata": {},
     "output_type": "execute_result"
    }
   ],
   "source": [
    "from IPython.display import HTML\n",
    "HTML('<div align=\"center\"><iframe src=\"https://player.vimeo.com/video/631241286?h=ae1948cfce\" width=\"640\" height=\"360\" frameborder=\"0\" allow=\"autoplay; fullscreen; picture-in-picture\" allowfullscreen align=\"middle\"></iframe></div>')     "
   ]
  },
  {
   "cell_type": "markdown",
   "metadata": {},
   "source": [
    "<hr>"
   ]
  },
  {
   "cell_type": "markdown",
   "metadata": {},
   "source": [
    "## Introduction"
   ]
  },
  {
   "cell_type": "markdown",
   "metadata": {},
   "source": [
    "Many machine learning (ML) frameworks and libraries exist and when getting started with Machine Learning, it is hard to choose the right one. Each framework and library has specific strengths and which one to use strongly depends on your purpose and goals of your machine learning application. For this reason, we provide here a high-level overview of the four most recurrent libraries and frameworks that use Python: [TensorFlow](#tensorflow), [Keras](#keras), [PyTorch](#pytorch) and [scikit-learn](#scikitlearn).\n"
   ]
  },
  {
   "cell_type": "markdown",
   "metadata": {},
   "source": [
    "<br>"
   ]
  },
  {
   "cell_type": "markdown",
   "metadata": {},
   "source": [
    "<hr>"
   ]
  },
  {
   "cell_type": "markdown",
   "metadata": {},
   "source": [
    "## Overview"
   ]
  },
  {
   "cell_type": "markdown",
   "metadata": {},
   "source": [
    "* [**Tensorflow** - Machine learning framework](#tensorflow)\n",
    "* [**Keras** - Deep learning API](#keras)\n",
    "* [**PyTorch** - Machine learning framework](#pytorch)\n",
    "* [**scikit-learn** - Machine learning framework](#scikitlearn)"
   ]
  },
  {
   "cell_type": "markdown",
   "metadata": {},
   "source": [
    "<hr>"
   ]
  },
  {
   "cell_type": "markdown",
   "metadata": {},
   "source": [
    "<br>"
   ]
  },
  {
   "cell_type": "markdown",
   "metadata": {},
   "source": [
    "## <a id='tensorflow'></a>Tensorflow - Machine Learning framework"
   ]
  },
  {
   "cell_type": "markdown",
   "metadata": {},
   "source": [
    "<img src='../../img/tensorflow_logo.png' alt='Tensorflow logo' width='30%'></img><br>"
   ]
  },
  {
   "cell_type": "markdown",
   "metadata": {},
   "source": [
    "**[TensorFlow](https://www.tensorflow.org/)** is an end-to-end open source machine learning framework and is one of the core libraries that help you to develop and train ML models. Initially developed by the Google Brain team for internal use, TensorFlow has been made openly available under the Apache License 2.0 since 2015.\n",
    "\n",
    "It contains of a comprehensive, flexible ecosystem of tools, libraries and community resources. It offers multiple levels of abstraction so you can choose the right one for your needs."
   ]
  },
  {
   "cell_type": "markdown",
   "metadata": {},
   "source": [
    "<br>"
   ]
  },
  {
   "cell_type": "markdown",
   "metadata": {},
   "source": [
    "## <a id='keras'></a>Keras - Deep Learning API\n"
   ]
  },
  {
   "cell_type": "markdown",
   "metadata": {},
   "source": [
    "<img src='../../img/keras_logo.png' alt='Keras logo' width='25%'></img><br>"
   ]
  },
  {
   "cell_type": "markdown",
   "metadata": {},
   "source": [
    "**[Keras](https://keras.io/)** is a deep learning API and is built on top of TensorFlow 2.0. Keras is especially know for its user-friendliness and easiness to get started. It is written in Python, which makes it easy to debug."
   ]
  },
  {
   "cell_type": "markdown",
   "metadata": {},
   "source": [
    "<br>"
   ]
  },
  {
   "cell_type": "markdown",
   "metadata": {},
   "source": [
    "### AI 4 Earth Monitoring MOOC examples using *Tensorflow* and *Keras*"
   ]
  },
  {
   "cell_type": "markdown",
   "metadata": {},
   "source": [
    "* 3 Land - [3B Tile-based classification with EuroSAT data - Sequential Convolutional Neural Network](../../3_land/3B_tile-based_classification_with_EuroSAT_data/3B_tile-based_classification_with_EuroSAT_data_training.ipynb)\n",
    "* 3 Land - [3D1 Soil moisture estimation - Sequential Convolutional Neural Network](../../3_land/3D1_soil_moisture_estimation/3D_soil_moisture_estimation.ipynb)\n",
    "* 4 Ocean - [4B Ship classification with Sentinel-1 data - Convolutional Neural Network](../../4_ocean/4B_ship_classification_with_Sentinel-1_data/4B_ship_classification_with_sentinel-1_data.ipynb)\n",
    "* 5 Atmosphere - [5B Ozone concentration estimation - Sequential Concolutional Neural Network](../../5_atmosphere/5B_ozone_concentration_estimation/5B_Ozone_concentration_estimation.ipynb)"
   ]
  },
  {
   "cell_type": "markdown",
   "metadata": {},
   "source": [
    "<hr>"
   ]
  },
  {
   "cell_type": "markdown",
   "metadata": {},
   "source": [
    "## <a id='pytorch'></a>PyTorch - Machine learning framework \n"
   ]
  },
  {
   "cell_type": "markdown",
   "metadata": {},
   "source": [
    "<img src='../../img/pytorch_logo.png' alt='Keras logo' width='30%'></img>"
   ]
  },
  {
   "cell_type": "markdown",
   "metadata": {},
   "source": [
    "**[PyTorch](https://pytorch.org/)** is an open source machine learning framework developed by Facebook. Similar to Tensorflow, it offers a rich ecosystem of libraries, tools and other resources to support the fast development of machine learning applications.  \n",
    "\n",
    "PyTorch is widely used in research projects."
   ]
  },
  {
   "cell_type": "markdown",
   "metadata": {},
   "source": [
    "<br>"
   ]
  },
  {
   "cell_type": "markdown",
   "metadata": {},
   "source": [
    "### AI 4 Earth Monitoring MOOC examples using *PyTorch*"
   ]
  },
  {
   "cell_type": "markdown",
   "metadata": {},
   "source": [
    "* 6 Climate - 6F [ML4Floods Training](../../6_climate/6F_ml4floods/6F_ml4floods_training.ipynb) and [ML4Floods Inference](../../6_climate/6F_ml4floods/6F_ml4floods_inference.ipynb)"
   ]
  },
  {
   "cell_type": "markdown",
   "metadata": {},
   "source": [
    "<hr>"
   ]
  },
  {
   "cell_type": "markdown",
   "metadata": {},
   "source": [
    "## <a id='scikitlearn'></a>scikit-learn - Machine learning framework"
   ]
  },
  {
   "cell_type": "markdown",
   "metadata": {},
   "source": [
    "<img src='../../img/scikit_learn_logo.png' alt='Keras logo' width='20%'></img><br><br>"
   ]
  },
  {
   "cell_type": "markdown",
   "metadata": {},
   "source": [
    "**[scikit-learn](https://scikit-learn.org/stable/index.html)** is another user-friendly framework that contains a great variety of useful tools: classification, regression and clustering models, as well as pre-processing, dimensionality reduction and evaluation tools.\n",
    "\n",
    "scikit-learn is built on fundamental Python libraries such as [NumPy](https://numpy.org/) and [matplotlib](https://matplotlib.org/stable/index.html) and the wider Python-based ecosystem [SciPy](https://www.scipy.org/)."
   ]
  },
  {
   "cell_type": "markdown",
   "metadata": {},
   "source": [
    "### AI 4 Earth Monitoring MOOC examples using *scikit-learn*"
   ]
  },
  {
   "cell_type": "markdown",
   "metadata": {},
   "source": [
    "* 3 Land - 3D2 [supervised land cover classification](../../3_land/3D2_land_cover_classification_with_Sentinel-2_data/3D2_supervised_classification_using_Sentinel-2.ipynb) and [unsupervised land cover classification](../../3_land/3D2_land_cover_classification_with_Sentinel-2_data/3D2_unsupervised_classification_using_Sentinel-2.ipynb) with Sentinel-2 data\n",
    "* 4 Ocean - [4F Using machine learning for water type classification: a naive bayesian approch](../../4_ocean/4F_ML_to_differentiate_between_sediment_and_chlorophyll/4Fa_Using_ML_for_water_type_identification.ipynb) \n",
    "* 5 Atmosphere - [5C Retrieving Methane from Sentinel-5P data](../../5_atmosphere/5C_methane_retrievals_using_s5p/5C_Retrieving_methane_from_Sentinel_5P.ipynb)\n",
    "* 6 Climate - [6C Global cloud classification with CUMULO](../../6_climate/6C_cumulo_cloud_classification/6C_cumulo_cloud_classification.ipynb)"
   ]
  },
  {
   "cell_type": "markdown",
   "metadata": {},
   "source": [
    "<br>"
   ]
  },
  {
   "cell_type": "markdown",
   "metadata": {},
   "source": [
    "<a href=\"https://www.futurelearn.com/courses/artificial-intelligence-for-earth-monitoring/1/steps/1170701\"><< Back to FutureLearn</a><br>"
   ]
  },
  {
   "cell_type": "markdown",
   "metadata": {},
   "source": [
    "<hr>"
   ]
  },
  {
   "cell_type": "markdown",
   "metadata": {},
   "source": [
    "<img src='../../img/copernicus_logo.png' alt='Copernicus logo' align='left' width='20%'></img>"
   ]
  },
  {
   "cell_type": "markdown",
   "metadata": {},
   "source": [
    "Course developed for [EUMETSAT](https://www.eumetsat.int/), [ECMWF](https://www.ecmwf.int/) and [Mercator Ocean International](https://www.mercator-ocean.fr/en/) in support of the [EU’s Copernicus Programme](https://www.copernicus.eu/en) and the [WEkEO platform](https://wekeo.eu/).\n"
   ]
  }
 ],
 "metadata": {
  "kernelspec": {
   "display_name": "machine-learning",
   "language": "python",
   "name": "machine-learning"
  },
  "language_info": {
   "codemirror_mode": {
    "name": "ipython",
    "version": 3
   },
   "file_extension": ".py",
   "mimetype": "text/x-python",
   "name": "python",
   "nbconvert_exporter": "python",
   "pygments_lexer": "ipython3",
   "version": "3.8.6"
  }
 },
 "nbformat": 4,
 "nbformat_minor": 4
}
